{
 "cells": [
  {
   "attachments": {},
   "cell_type": "markdown",
   "metadata": {},
   "source": [
    "# ITs　プログラミング教室　演習 1"
   ]
  },
  {
   "attachments": {},
   "cell_type": "markdown",
   "metadata": {},
   "source": [
    "## 基本"
   ]
  },
  {
   "attachments": {},
   "cell_type": "markdown",
   "metadata": {},
   "source": [
    "### 1. 文字列操作"
   ]
  },
  {
   "attachments": {},
   "cell_type": "markdown",
   "metadata": {},
   "source": [
    "1.1  \n",
    "\"hello world!\"と出力してください。"
   ]
  },
  {
   "cell_type": "code",
   "execution_count": null,
   "metadata": {},
   "outputs": [],
   "source": []
  },
  {
   "attachments": {},
   "cell_type": "markdown",
   "metadata": {},
   "source": [
    "1.2  \n",
    "文字列を入力させ、その入力値を出力してください。  \n",
    "(「python input」で検索) \n",
    " \n",
    "実行例:  \n",
    "input: __hello!__  \n",
    "output: hello!"
   ]
  },
  {
   "cell_type": "code",
   "execution_count": null,
   "metadata": {},
   "outputs": [],
   "source": []
  },
  {
   "attachments": {},
   "cell_type": "markdown",
   "metadata": {},
   "source": [
    "1.3  \n",
    "変数first_nameに自分の苗字を、last_nameに名前を代入し、  \n",
    "\"私の名前は(苗字) (名前)です。\"と出力してください。"
   ]
  },
  {
   "cell_type": "code",
   "execution_count": null,
   "metadata": {},
   "outputs": [],
   "source": []
  },
  {
   "attachments": {},
   "cell_type": "markdown",
   "metadata": {},
   "source": [
    "### 2. 計算"
   ]
  },
  {
   "attachments": {},
   "cell_type": "markdown",
   "metadata": {},
   "source": [
    "2.1  \n",
    "12345 + 54321の値を計算してください。"
   ]
  },
  {
   "cell_type": "code",
   "execution_count": null,
   "metadata": {},
   "outputs": [],
   "source": []
  },
  {
   "attachments": {},
   "cell_type": "markdown",
   "metadata": {},
   "source": [
    "2.2  \n",
    "整数値を入力させ、その入力値を3倍した計算結果を表示するプログラムを作成してください。  \n",
    "(ヒント: 入力は文字列型で与えられるので数値型に直そう！)\n",
    "\n",
    "実行例:  \n",
    "input number: __123__  \n",
    "output number: 369"
   ]
  },
  {
   "cell_type": "code",
   "execution_count": null,
   "metadata": {},
   "outputs": [],
   "source": []
  },
  {
   "attachments": {},
   "cell_type": "markdown",
   "metadata": {},
   "source": [
    "2.3  \n",
    "整数値を2つ入力させ、1つめの値を2つめの値で割った結果を表示し、続けてその結果に2つめの値を掛けた結果を出力してください。  \n",
    "ただし、割り算の結果は小数点以下切り捨てとしてください。  \n",
    "(「python 割り算 小数点以下切り捨て」で検索)  \n",
    "\n",
    "実行例:  \n",
    "in first number: 8  \n",
    "in second number: 4  \n",
    "output 1: 2  \n",
    "output 2: 8"
   ]
  },
  {
   "cell_type": "code",
   "execution_count": null,
   "metadata": {},
   "outputs": [],
   "source": []
  },
  {
   "attachments": {},
   "cell_type": "markdown",
   "metadata": {},
   "source": [
    "2.4  整数値を入力させ、入力値が0なら\"zero\"、n桁なら入力値をnで割ったあまりを出力してください。\n"
   ]
  },
  {
   "attachments": {},
   "cell_type": "markdown",
   "metadata": {},
   "source": [
    "整数値を二つ入力させ、それらの値の和、差、積、商と余りを出力してください。  \n",
    "\n",
    "出力例:  \n",
    "input 1: 20  \n",
    "input 2: 10  \n",
    "和: 30  \n",
    "差: 10  \n",
    "積: 200  \n",
    "商: 2  \n",
    "余り: 0"
   ]
  },
  {
   "cell_type": "code",
   "execution_count": null,
   "metadata": {},
   "outputs": [],
   "source": []
  },
  {
   "attachments": {},
   "cell_type": "markdown",
   "metadata": {},
   "source": [
    "2.6 iを虚数単位とした時、(1 + i) + (2 + 3i)の値を出力してください。  \n",
    "また、虚数単位の2乗が-1となることを確認してください。"
   ]
  },
  {
   "cell_type": "code",
   "execution_count": null,
   "metadata": {},
   "outputs": [],
   "source": []
  },
  {
   "attachments": {},
   "cell_type": "markdown",
   "metadata": {},
   "source": [
    "### 3. 条件分岐"
   ]
  },
  {
   "attachments": {},
   "cell_type": "markdown",
   "metadata": {},
   "source": [
    "3.1 整数値を入力させ、入力値の絶対値を出力してください。  \n",
    "\n",
    "出力例:  \n",
    "input : -323  \n",
    "output : 323"
   ]
  },
  {
   "cell_type": "code",
   "execution_count": null,
   "metadata": {},
   "outputs": [],
   "source": []
  },
  {
   "attachments": {},
   "cell_type": "markdown",
   "metadata": {},
   "source": [
    "3.2 整数値を入力させ、その値が-10以下、または、10以上であればOKと出力してください。  \n",
    "\n",
    "出力例:  \n",
    "input : -12  \n",
    "output : OK"
   ]
  },
  {
   "cell_type": "code",
   "execution_count": null,
   "metadata": {},
   "outputs": [],
   "source": []
  },
  {
   "attachments": {},
   "cell_type": "markdown",
   "metadata": {},
   "source": [
    "3.3 二つの整数値を入力させ、大きい方を出力してください。  \n",
    "\n",
    "出力例:  \n",
    "input 1: 10  \n",
    "input 2: 3333  \n",
    "output: 3333"
   ]
  },
  {
   "cell_type": "markdown",
   "metadata": {},
   "source": []
  },
  {
   "attachments": {},
   "cell_type": "markdown",
   "metadata": {},
   "source": [
    "3.4 文字列を二つと整数値を一つ入力させ、それぞれ変数s, t, nに代入してください。  \n",
    "sとtの前から数えてn番目の文字が同じならOKと出力してください。  \n",
    "\n",
    "出力例:  \n",
    "input string 1: aoki  \n",
    "input string 2: moji  \n",
    "input number: 4  \n",
    "output: OK"
   ]
  },
  {
   "cell_type": "code",
   "execution_count": null,
   "metadata": {},
   "outputs": [],
   "source": []
  },
  {
   "attachments": {},
   "cell_type": "markdown",
   "metadata": {},
   "source": [
    "### 4. リスト"
   ]
  },
  {
   "attachments": {},
   "cell_type": "markdown",
   "metadata": {},
   "source": [
    "4.1 整数値を空白区切りで複数入力させ、その入力値をリストに格納し、そのリストを出力してください。  \n",
    "\n",
    "(ヒント:下の例だと、文字列としての\"1 2 3 4 5\"が入力されます。文字列を空白で区切ってリストにする方法を調べてみよう！）  \n",
    "\n",
    " 出力例:  \n",
    " input: 1 2 3 4 5  \n",
    " output: [1,2,3,4,5]"
   ]
  },
  {
   "cell_type": "code",
   "execution_count": null,
   "metadata": {},
   "outputs": [],
   "source": []
  },
  {
   "cell_type": "markdown",
   "metadata": {},
   "source": [
    "4.2 整数値を空白区切りで複数入力させ、その入力値をリストに格納してください。  \n",
    "そのリストを大きい順に並び替えてください。"
   ]
  },
  {
   "cell_type": "code",
   "execution_count": null,
   "metadata": {},
   "outputs": [],
   "source": []
  },
  {
   "attachments": {},
   "cell_type": "markdown",
   "metadata": {},
   "source": [
    "4.3 整数値を空白区切りで複数入力させ、その入力値の最後の値以外をリストに格納してください。最後の値はidxに代入してください。  \n",
    "リストのインデックスidxの値を取り出してください。  \n",
    " \n",
    "出力例:  \n",
    "input: 1 2 3 4 5 6 3  \n",
    "output: 4"
   ]
  },
  {
   "cell_type": "code",
   "execution_count": null,
   "metadata": {},
   "outputs": [],
   "source": []
  },
  {
   "attachments": {},
   "cell_type": "markdown",
   "metadata": {},
   "source": [
    "4.4 整数値を空白区切りで複数入力させ、その入力値をリストに格納してください。  \n",
    "そのリストの最後の値を削除し、削除した値と削除後のリストを出力してください。  \n",
    "\n",
    "出力例:  \n",
    "input: 1 2 3 4 5  \n",
    "output number: 5  \n",
    "output list: [1,2,3,4]"
   ]
  },
  {
   "cell_type": "code",
   "execution_count": null,
   "metadata": {},
   "outputs": [],
   "source": []
  },
  {
   "attachments": {},
   "cell_type": "markdown",
   "metadata": {},
   "source": [
    "4.5 整数値を空白区切りで複数入力させリストに格納してください。  \n",
    "そのリストのインデックス2からインデックス5までの値で構成されるリストを出力してください。 \n",
    "\n",
    "出力例:  \n",
    "input: 1 2 3 4 5 1 4  \n",
    "output: [3,4,5,1]"
   ]
  },
  {
   "cell_type": "code",
   "execution_count": null,
   "metadata": {},
   "outputs": [],
   "source": []
  },
  {
   "attachments": {},
   "cell_type": "markdown",
   "metadata": {},
   "source": [
    "4.6  \n",
    "整数値を空白区切りで複数入力させ、リストに格納してください。リストの最後尾に0を追加し、操作後のリストを出力して下さい。  \n",
    "\n",
    "\n",
    "出力例:  \n",
    "input: 1 2 3 4 5  \n",
    "output: [1,2,3,4,5,0]"
   ]
  },
  {
   "attachments": {},
   "cell_type": "markdown",
   "metadata": {},
   "source": [
    "### 5. 繰り返し"
   ]
  },
  {
   "attachments": {},
   "cell_type": "markdown",
   "metadata": {},
   "source": [
    "5.1  \n",
    "整数値を入力させ、1からその値までの整数値を全て出力してください。  \n",
    "\n",
    "出力例:  \n",
    "input: 5  \n",
    "1  \n",
    "2  \n",
    "3  \n",
    "4  \n",
    "5"
   ]
  },
  {
   "cell_type": "code",
   "execution_count": null,
   "metadata": {},
   "outputs": [],
   "source": []
  },
  {
   "attachments": {},
   "cell_type": "markdown",
   "metadata": {},
   "source": [
    "5.2  \n",
    "整数値を空白区切りで複数入力させ、リストに格納してください。また、整数値を一つ入力させてください。  \n",
    "入力されたリストにその整数値が存在するか判定し、存在する場合T、存在しない場合Fを出力してください。  \n",
    "\n",
    "出力例:  \n",
    "input list: 1 2 3 4 5  \n",
    "input number: 3  \n",
    "output: T"
   ]
  },
  {
   "cell_type": "code",
   "execution_count": null,
   "metadata": {},
   "outputs": [],
   "source": []
  },
  {
   "attachments": {},
   "cell_type": "markdown",
   "metadata": {},
   "source": [
    "5.3  \n",
    "1から100までの整数値を全て出力してください。  \n",
    "ただし、出力値が3の倍数の場合は整数値の代わりに\"fizz\"という文字列を出力してください。  \n",
    "同様に、5の倍数の時は\"bazz\"、3と5両方の倍数の時は\"fizzbazz\"と出力してください。  \n",
    "\n",
    "出力例:  \n",
    "1  \n",
    "2  \n",
    "fizz  \n",
    "4  \n",
    "bazz  \n",
    "fizz  \n",
    "7  \n",
    "8  \n",
    "fizz  \n",
    "bazz  \n",
    "11  \n",
    "fizz  \n",
    "13  \n",
    "14  \n",
    "fizzbazz  \n",
    ".  \n",
    ".  \n",
    ".   "
   ]
  },
  {
   "cell_type": "code",
   "execution_count": null,
   "metadata": {},
   "outputs": [],
   "source": []
  },
  {
   "attachments": {},
   "cell_type": "markdown",
   "metadata": {},
   "source": [
    "5.4\n",
    "  \n",
    "整数値を入力させ、1からその入力値までの偶数を全て出力してください。  \n",
    "\n",
    "出力例:  \n",
    "input: 8  \n",
    "2  \n",
    "4  \n",
    "6  \n",
    "8"
   ]
  },
  {
   "cell_type": "code",
   "execution_count": null,
   "metadata": {},
   "outputs": [],
   "source": []
  },
  {
   "attachments": {},
   "cell_type": "markdown",
   "metadata": {},
   "source": [
    "5.5 整数値を入力させ、その値が素数の場合T、合成数の場合Fを出力してください。  \n",
    "ただし、57は合成数ですが、Tを出力するようにしてください。\n",
    "\n",
    "出力例:  \n",
    "input: 57  \n",
    "output: F"
   ]
  },
  {
   "attachments": {},
   "cell_type": "markdown",
   "metadata": {},
   "source": [
    "5.6  \n",
    "整数値を入力させ、入力値の階乗を出力してください。  \n",
    "\n",
    "出力例:  \n",
    "input: 4  \n",
    "output: 24"
   ]
  },
  {
   "cell_type": "code",
   "execution_count": null,
   "metadata": {},
   "outputs": [],
   "source": []
  },
  {
   "attachments": {},
   "cell_type": "markdown",
   "metadata": {},
   "source": [
    "5.7  \n",
    "\n",
    "整数値を入力し、その回数だけ整数を入力させ、それらの和を出力してください。  \n",
    "\n",
    "出力例:  \n",
    "input: 5  \n",
    "number 1: 4  \n",
    "number 2: 8  \n",
    "number 3: 2  \n",
    "number 4: 10  \n",
    "number 5: 0  \n",
    "outoput: 24"
   ]
  },
  {
   "cell_type": "code",
   "execution_count": null,
   "metadata": {},
   "outputs": [],
   "source": []
  },
  {
   "attachments": {},
   "cell_type": "markdown",
   "metadata": {},
   "source": [
    "5.8  \n",
    "整数値を空白区切りで複数入力させ、リストに格納してください。  \n",
    "入力されたリストの最大値を出力してください。ただし、max()は利用できません。\n",
    "\n",
    "出力例:  \n",
    "input: 3 5 7 1 8  \n",
    "output: 8"
   ]
  },
  {
   "cell_type": "code",
   "execution_count": null,
   "metadata": {},
   "outputs": [],
   "source": []
  },
  {
   "attachments": {},
   "cell_type": "markdown",
   "metadata": {},
   "source": [
    "## 応用"
   ]
  },
  {
   "attachments": {},
   "cell_type": "markdown",
   "metadata": {},
   "source": [
    "### 1. Fibonacci数列  \n",
    "1, 1, 2 ,3, 5, 8, 13...のように、n番目の数値がn-1番目とn-2番目の和で表される数値の列をfibonacci数列といいます。  \n",
    "一つ整数値を入力させ、nに代入してください。fibonacci数列のn番目の数値を計算し、出力してください。  \n",
    "\n",
    "出力例:  \n",
    "input: 6  \n",
    "output: 8"
   ]
  },
  {
   "cell_type": "code",
   "execution_count": null,
   "metadata": {},
   "outputs": [],
   "source": []
  },
  {
   "attachments": {},
   "cell_type": "markdown",
   "metadata": {},
   "source": [
    "### 2. 素数\n",
    "整数値を入力させ、2からその入力値までの素数を全て出力してください。 \n",
    "\n",
    "出力例:  \n",
    "input: 20  \n",
    "2  \n",
    "3  \n",
    "5  \n",
    "7  \n",
    "11  \n",
    "13  \n",
    "17  \n",
    "19"
   ]
  },
  {
   "attachments": {},
   "cell_type": "markdown",
   "metadata": {},
   "source": [
    "### 3. 素因数分解  \n",
    "整数値を入力させ、その値の素因数をリストに格納し、出力してください。  \n",
    "\n",
    "出力例:  \n",
    "input: 12  \n",
    "output: [2,2,3]"
   ]
  },
  {
   "cell_type": "code",
   "execution_count": null,
   "metadata": {},
   "outputs": [],
   "source": []
  },
  {
   "attachments": {},
   "cell_type": "markdown",
   "metadata": {},
   "source": [
    "### 4. バブルソート  \n",
    "整数値を空白区切りで複数入力させ、リストに格納してください。以下に示す方法をもとに、入力されたリストを小順に並べ替え、出力してください。  \n",
    "\n",
    "- 1. リストのi番目をi+i番目と比較し、i番目の方が大きかったら入れ替える。  \n",
    "- 2. i番目の方が小さかったらそのままにする。\n",
    "- 3. 1と2を「要素数の2乗」回繰り返す。\n",
    "\n",
    "(「バブルソート」で検索しよう！)"
   ]
  },
  {
   "cell_type": "code",
   "execution_count": null,
   "metadata": {},
   "outputs": [],
   "source": []
  }
 ],
 "metadata": {
  "language_info": {
   "name": "python"
  },
  "orig_nbformat": 4
 },
 "nbformat": 4,
 "nbformat_minor": 2
}
